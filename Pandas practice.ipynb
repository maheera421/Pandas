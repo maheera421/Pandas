{
 "cells": [
  {
   "cell_type": "code",
   "execution_count": 1,
   "id": "745c26a4-07c2-4bd0-a210-9a8f5b34fc15",
   "metadata": {},
   "outputs": [],
   "source": [
    "import numpy as np\n",
    "import pandas as pd"
   ]
  },
  {
   "cell_type": "markdown",
   "id": "4f58aeed-1ede-4a8c-a1ff-938adb12c2a2",
   "metadata": {},
   "source": [
    "***easy way of data frame***"
   ]
  },
  {
   "cell_type": "code",
   "execution_count": 2,
   "id": "bc808973-7d29-49d2-bfdd-79a735593be0",
   "metadata": {},
   "outputs": [],
   "source": [
    "dict = {\n",
    "    \"name\": ['ali', 'ayesha', 'amna'],\n",
    "    \"marks\" : [23, 45, 67],\n",
    "    \"city\" : ['lahore', 'karachi', 'quetta']\n",
    "}"
   ]
  },
  {
   "cell_type": "code",
   "execution_count": 3,
   "id": "1d4b9c03-2a75-4a5b-9c94-f5cd90da8857",
   "metadata": {},
   "outputs": [],
   "source": [
    "d1 = pd.DataFrame(dict)"
   ]
  },
  {
   "cell_type": "code",
   "execution_count": 4,
   "id": "bb5bc457-495b-43cc-891e-00bafc4dcd61",
   "metadata": {},
   "outputs": [
    {
     "data": {
      "text/html": [
       "<div>\n",
       "<style scoped>\n",
       "    .dataframe tbody tr th:only-of-type {\n",
       "        vertical-align: middle;\n",
       "    }\n",
       "\n",
       "    .dataframe tbody tr th {\n",
       "        vertical-align: top;\n",
       "    }\n",
       "\n",
       "    .dataframe thead th {\n",
       "        text-align: right;\n",
       "    }\n",
       "</style>\n",
       "<table border=\"1\" class=\"dataframe\">\n",
       "  <thead>\n",
       "    <tr style=\"text-align: right;\">\n",
       "      <th></th>\n",
       "      <th>name</th>\n",
       "      <th>marks</th>\n",
       "      <th>city</th>\n",
       "    </tr>\n",
       "  </thead>\n",
       "  <tbody>\n",
       "    <tr>\n",
       "      <th>0</th>\n",
       "      <td>ali</td>\n",
       "      <td>23</td>\n",
       "      <td>lahore</td>\n",
       "    </tr>\n",
       "    <tr>\n",
       "      <th>1</th>\n",
       "      <td>ayesha</td>\n",
       "      <td>45</td>\n",
       "      <td>karachi</td>\n",
       "    </tr>\n",
       "    <tr>\n",
       "      <th>2</th>\n",
       "      <td>amna</td>\n",
       "      <td>67</td>\n",
       "      <td>quetta</td>\n",
       "    </tr>\n",
       "  </tbody>\n",
       "</table>\n",
       "</div>"
      ],
      "text/plain": [
       "     name  marks     city\n",
       "0     ali     23   lahore\n",
       "1  ayesha     45  karachi\n",
       "2    amna     67   quetta"
      ]
     },
     "execution_count": 4,
     "metadata": {},
     "output_type": "execute_result"
    }
   ],
   "source": [
    "d1"
   ]
  },
  {
   "cell_type": "markdown",
   "id": "2128d693-e6c6-4ff2-92ee-4f8f92b2db45",
   "metadata": {},
   "source": [
    "***accessing series/columns/keys***"
   ]
  },
  {
   "cell_type": "code",
   "execution_count": 5,
   "id": "906dd107-2fb1-406c-9b5c-b0431e009386",
   "metadata": {},
   "outputs": [
    {
     "data": {
      "text/plain": [
       "0       ali\n",
       "1    ayesha\n",
       "2      amna\n",
       "Name: name, dtype: object"
      ]
     },
     "execution_count": 5,
     "metadata": {},
     "output_type": "execute_result"
    }
   ],
   "source": [
    "d1[\"name\"]"
   ]
  },
  {
   "cell_type": "markdown",
   "id": "24adbd0c-48b4-4126-8d25-8bb49e33ae4b",
   "metadata": {},
   "source": [
    "***d1[0] will give erroe***"
   ]
  },
  {
   "cell_type": "markdown",
   "id": "c8c53ee1-c83c-4364-b7c5-edbd268dee40",
   "metadata": {},
   "source": [
    "***accessing and editing specific values in dataframe***"
   ]
  },
  {
   "cell_type": "code",
   "execution_count": 6,
   "id": "87c2b13a-b028-4562-ae3b-51399a57acf7",
   "metadata": {},
   "outputs": [
    {
     "name": "stderr",
     "output_type": "stream",
     "text": [
      "C:\\Users\\mahee\\AppData\\Local\\Temp\\ipykernel_13824\\3996052399.py:1: SettingWithCopyWarning: \n",
      "A value is trying to be set on a copy of a slice from a DataFrame\n",
      "\n",
      "See the caveats in the documentation: https://pandas.pydata.org/pandas-docs/stable/user_guide/indexing.html#returning-a-view-versus-a-copy\n",
      "  d1[\"marks\"][1] = 50\n"
     ]
    }
   ],
   "source": [
    "d1[\"marks\"][1] = 50"
   ]
  },
  {
   "cell_type": "code",
   "execution_count": 7,
   "id": "fc6447d3-3190-4fb4-ace7-372dcb1fc230",
   "metadata": {},
   "outputs": [
    {
     "data": {
      "text/html": [
       "<div>\n",
       "<style scoped>\n",
       "    .dataframe tbody tr th:only-of-type {\n",
       "        vertical-align: middle;\n",
       "    }\n",
       "\n",
       "    .dataframe tbody tr th {\n",
       "        vertical-align: top;\n",
       "    }\n",
       "\n",
       "    .dataframe thead th {\n",
       "        text-align: right;\n",
       "    }\n",
       "</style>\n",
       "<table border=\"1\" class=\"dataframe\">\n",
       "  <thead>\n",
       "    <tr style=\"text-align: right;\">\n",
       "      <th></th>\n",
       "      <th>name</th>\n",
       "      <th>marks</th>\n",
       "      <th>city</th>\n",
       "    </tr>\n",
       "  </thead>\n",
       "  <tbody>\n",
       "    <tr>\n",
       "      <th>0</th>\n",
       "      <td>ali</td>\n",
       "      <td>23</td>\n",
       "      <td>lahore</td>\n",
       "    </tr>\n",
       "    <tr>\n",
       "      <th>1</th>\n",
       "      <td>ayesha</td>\n",
       "      <td>50</td>\n",
       "      <td>karachi</td>\n",
       "    </tr>\n",
       "    <tr>\n",
       "      <th>2</th>\n",
       "      <td>amna</td>\n",
       "      <td>67</td>\n",
       "      <td>quetta</td>\n",
       "    </tr>\n",
       "  </tbody>\n",
       "</table>\n",
       "</div>"
      ],
      "text/plain": [
       "     name  marks     city\n",
       "0     ali     23   lahore\n",
       "1  ayesha     50  karachi\n",
       "2    amna     67   quetta"
      ]
     },
     "execution_count": 7,
     "metadata": {},
     "output_type": "execute_result"
    }
   ],
   "source": [
    "d1\n"
   ]
  },
  {
   "cell_type": "code",
   "execution_count": 8,
   "id": "b0fba60d-b0b7-4c83-a40c-c4e7c928a6e4",
   "metadata": {},
   "outputs": [],
   "source": [
    "d1.loc[ 2 , \"city\"] = \"lah\""
   ]
  },
  {
   "cell_type": "code",
   "execution_count": 9,
   "id": "3573bf91-6a49-46f3-ad17-1a288158129a",
   "metadata": {},
   "outputs": [
    {
     "data": {
      "text/html": [
       "<div>\n",
       "<style scoped>\n",
       "    .dataframe tbody tr th:only-of-type {\n",
       "        vertical-align: middle;\n",
       "    }\n",
       "\n",
       "    .dataframe tbody tr th {\n",
       "        vertical-align: top;\n",
       "    }\n",
       "\n",
       "    .dataframe thead th {\n",
       "        text-align: right;\n",
       "    }\n",
       "</style>\n",
       "<table border=\"1\" class=\"dataframe\">\n",
       "  <thead>\n",
       "    <tr style=\"text-align: right;\">\n",
       "      <th></th>\n",
       "      <th>name</th>\n",
       "      <th>marks</th>\n",
       "      <th>city</th>\n",
       "    </tr>\n",
       "  </thead>\n",
       "  <tbody>\n",
       "    <tr>\n",
       "      <th>0</th>\n",
       "      <td>ali</td>\n",
       "      <td>23</td>\n",
       "      <td>lahore</td>\n",
       "    </tr>\n",
       "    <tr>\n",
       "      <th>1</th>\n",
       "      <td>ayesha</td>\n",
       "      <td>50</td>\n",
       "      <td>karachi</td>\n",
       "    </tr>\n",
       "    <tr>\n",
       "      <th>2</th>\n",
       "      <td>amna</td>\n",
       "      <td>67</td>\n",
       "      <td>lah</td>\n",
       "    </tr>\n",
       "  </tbody>\n",
       "</table>\n",
       "</div>"
      ],
      "text/plain": [
       "     name  marks     city\n",
       "0     ali     23   lahore\n",
       "1  ayesha     50  karachi\n",
       "2    amna     67      lah"
      ]
     },
     "execution_count": 9,
     "metadata": {},
     "output_type": "execute_result"
    }
   ],
   "source": [
    "d1"
   ]
  },
  {
   "cell_type": "markdown",
   "id": "67560cc3-edfe-484c-9955-36fe5a33a2c5",
   "metadata": {},
   "source": [
    "***printing and editing indexes and columns***"
   ]
  },
  {
   "cell_type": "code",
   "execution_count": 10,
   "id": "0f887884-c4a8-496b-84b2-cad04b0cfb21",
   "metadata": {},
   "outputs": [
    {
     "data": {
      "text/plain": [
       "RangeIndex(start=0, stop=3, step=1)"
      ]
     },
     "execution_count": 10,
     "metadata": {},
     "output_type": "execute_result"
    }
   ],
   "source": [
    "d1.index"
   ]
  },
  {
   "cell_type": "code",
   "execution_count": 11,
   "id": "cd721705-225a-4cb5-812b-52e419942b8f",
   "metadata": {},
   "outputs": [],
   "source": [
    "d1.index = [\"first\", \"second\", \"third\"]"
   ]
  },
  {
   "cell_type": "code",
   "execution_count": 12,
   "id": "79eac1aa-08d3-490c-8c59-aed43afc1046",
   "metadata": {},
   "outputs": [
    {
     "data": {
      "text/html": [
       "<div>\n",
       "<style scoped>\n",
       "    .dataframe tbody tr th:only-of-type {\n",
       "        vertical-align: middle;\n",
       "    }\n",
       "\n",
       "    .dataframe tbody tr th {\n",
       "        vertical-align: top;\n",
       "    }\n",
       "\n",
       "    .dataframe thead th {\n",
       "        text-align: right;\n",
       "    }\n",
       "</style>\n",
       "<table border=\"1\" class=\"dataframe\">\n",
       "  <thead>\n",
       "    <tr style=\"text-align: right;\">\n",
       "      <th></th>\n",
       "      <th>name</th>\n",
       "      <th>marks</th>\n",
       "      <th>city</th>\n",
       "    </tr>\n",
       "  </thead>\n",
       "  <tbody>\n",
       "    <tr>\n",
       "      <th>first</th>\n",
       "      <td>ali</td>\n",
       "      <td>23</td>\n",
       "      <td>lahore</td>\n",
       "    </tr>\n",
       "    <tr>\n",
       "      <th>second</th>\n",
       "      <td>ayesha</td>\n",
       "      <td>50</td>\n",
       "      <td>karachi</td>\n",
       "    </tr>\n",
       "    <tr>\n",
       "      <th>third</th>\n",
       "      <td>amna</td>\n",
       "      <td>67</td>\n",
       "      <td>lah</td>\n",
       "    </tr>\n",
       "  </tbody>\n",
       "</table>\n",
       "</div>"
      ],
      "text/plain": [
       "          name  marks     city\n",
       "first      ali     23   lahore\n",
       "second  ayesha     50  karachi\n",
       "third     amna     67      lah"
      ]
     },
     "execution_count": 12,
     "metadata": {},
     "output_type": "execute_result"
    }
   ],
   "source": [
    "d1"
   ]
  },
  {
   "cell_type": "code",
   "execution_count": 13,
   "id": "6457c959-bf53-4154-890a-531fdf3c203f",
   "metadata": {},
   "outputs": [
    {
     "data": {
      "text/plain": [
       "Index(['name', 'marks', 'city'], dtype='object')"
      ]
     },
     "execution_count": 13,
     "metadata": {},
     "output_type": "execute_result"
    }
   ],
   "source": [
    "d1.columns"
   ]
  },
  {
   "cell_type": "code",
   "execution_count": 14,
   "id": "1c773c88-bd24-4446-9fd1-42e8e3463c48",
   "metadata": {},
   "outputs": [],
   "source": [
    "d1.columns = list(\"ABC\")"
   ]
  },
  {
   "cell_type": "code",
   "execution_count": 15,
   "id": "8a0bd78c-1d90-4343-9868-192eedc864ac",
   "metadata": {},
   "outputs": [
    {
     "data": {
      "text/html": [
       "<div>\n",
       "<style scoped>\n",
       "    .dataframe tbody tr th:only-of-type {\n",
       "        vertical-align: middle;\n",
       "    }\n",
       "\n",
       "    .dataframe tbody tr th {\n",
       "        vertical-align: top;\n",
       "    }\n",
       "\n",
       "    .dataframe thead th {\n",
       "        text-align: right;\n",
       "    }\n",
       "</style>\n",
       "<table border=\"1\" class=\"dataframe\">\n",
       "  <thead>\n",
       "    <tr style=\"text-align: right;\">\n",
       "      <th></th>\n",
       "      <th>A</th>\n",
       "      <th>B</th>\n",
       "      <th>C</th>\n",
       "    </tr>\n",
       "  </thead>\n",
       "  <tbody>\n",
       "    <tr>\n",
       "      <th>first</th>\n",
       "      <td>ali</td>\n",
       "      <td>23</td>\n",
       "      <td>lahore</td>\n",
       "    </tr>\n",
       "    <tr>\n",
       "      <th>second</th>\n",
       "      <td>ayesha</td>\n",
       "      <td>50</td>\n",
       "      <td>karachi</td>\n",
       "    </tr>\n",
       "    <tr>\n",
       "      <th>third</th>\n",
       "      <td>amna</td>\n",
       "      <td>67</td>\n",
       "      <td>lah</td>\n",
       "    </tr>\n",
       "  </tbody>\n",
       "</table>\n",
       "</div>"
      ],
      "text/plain": [
       "             A   B        C\n",
       "first      ali  23   lahore\n",
       "second  ayesha  50  karachi\n",
       "third     amna  67      lah"
      ]
     },
     "execution_count": 15,
     "metadata": {},
     "output_type": "execute_result"
    }
   ],
   "source": [
    "d1\n"
   ]
  },
  {
   "cell_type": "markdown",
   "id": "f719785a-edea-4105-aea5-3ddb5ef9fa74",
   "metadata": {},
   "source": [
    "***dealing with head and tals of dataframe***"
   ]
  },
  {
   "cell_type": "code",
   "execution_count": 16,
   "id": "114c792c-ada7-4487-839d-fcbe8c734d1f",
   "metadata": {},
   "outputs": [
    {
     "data": {
      "text/html": [
       "<div>\n",
       "<style scoped>\n",
       "    .dataframe tbody tr th:only-of-type {\n",
       "        vertical-align: middle;\n",
       "    }\n",
       "\n",
       "    .dataframe tbody tr th {\n",
       "        vertical-align: top;\n",
       "    }\n",
       "\n",
       "    .dataframe thead th {\n",
       "        text-align: right;\n",
       "    }\n",
       "</style>\n",
       "<table border=\"1\" class=\"dataframe\">\n",
       "  <thead>\n",
       "    <tr style=\"text-align: right;\">\n",
       "      <th></th>\n",
       "      <th>A</th>\n",
       "      <th>B</th>\n",
       "      <th>C</th>\n",
       "    </tr>\n",
       "  </thead>\n",
       "  <tbody>\n",
       "    <tr>\n",
       "      <th>first</th>\n",
       "      <td>ali</td>\n",
       "      <td>23</td>\n",
       "      <td>lahore</td>\n",
       "    </tr>\n",
       "    <tr>\n",
       "      <th>second</th>\n",
       "      <td>ayesha</td>\n",
       "      <td>50</td>\n",
       "      <td>karachi</td>\n",
       "    </tr>\n",
       "  </tbody>\n",
       "</table>\n",
       "</div>"
      ],
      "text/plain": [
       "             A   B        C\n",
       "first      ali  23   lahore\n",
       "second  ayesha  50  karachi"
      ]
     },
     "execution_count": 16,
     "metadata": {},
     "output_type": "execute_result"
    }
   ],
   "source": [
    "d1.head(2)"
   ]
  },
  {
   "cell_type": "code",
   "execution_count": 17,
   "id": "f96792dc-262a-4941-81a7-bd0bd851708c",
   "metadata": {},
   "outputs": [
    {
     "data": {
      "text/html": [
       "<div>\n",
       "<style scoped>\n",
       "    .dataframe tbody tr th:only-of-type {\n",
       "        vertical-align: middle;\n",
       "    }\n",
       "\n",
       "    .dataframe tbody tr th {\n",
       "        vertical-align: top;\n",
       "    }\n",
       "\n",
       "    .dataframe thead th {\n",
       "        text-align: right;\n",
       "    }\n",
       "</style>\n",
       "<table border=\"1\" class=\"dataframe\">\n",
       "  <thead>\n",
       "    <tr style=\"text-align: right;\">\n",
       "      <th></th>\n",
       "      <th>A</th>\n",
       "      <th>B</th>\n",
       "      <th>C</th>\n",
       "    </tr>\n",
       "  </thead>\n",
       "  <tbody>\n",
       "    <tr>\n",
       "      <th>second</th>\n",
       "      <td>ayesha</td>\n",
       "      <td>50</td>\n",
       "      <td>karachi</td>\n",
       "    </tr>\n",
       "    <tr>\n",
       "      <th>third</th>\n",
       "      <td>amna</td>\n",
       "      <td>67</td>\n",
       "      <td>lah</td>\n",
       "    </tr>\n",
       "  </tbody>\n",
       "</table>\n",
       "</div>"
      ],
      "text/plain": [
       "             A   B        C\n",
       "second  ayesha  50  karachi\n",
       "third     amna  67      lah"
      ]
     },
     "execution_count": 17,
     "metadata": {},
     "output_type": "execute_result"
    }
   ],
   "source": [
    "d1.tail(2)\n"
   ]
  },
  {
   "cell_type": "markdown",
   "id": "f919083e-6386-428d-9ea0-eff1f4385028",
   "metadata": {},
   "source": [
    "***for stats***"
   ]
  },
  {
   "cell_type": "code",
   "execution_count": 18,
   "id": "f9735eca-16f4-443b-95ae-401919a650b1",
   "metadata": {},
   "outputs": [
    {
     "data": {
      "text/html": [
       "<div>\n",
       "<style scoped>\n",
       "    .dataframe tbody tr th:only-of-type {\n",
       "        vertical-align: middle;\n",
       "    }\n",
       "\n",
       "    .dataframe tbody tr th {\n",
       "        vertical-align: top;\n",
       "    }\n",
       "\n",
       "    .dataframe thead th {\n",
       "        text-align: right;\n",
       "    }\n",
       "</style>\n",
       "<table border=\"1\" class=\"dataframe\">\n",
       "  <thead>\n",
       "    <tr style=\"text-align: right;\">\n",
       "      <th></th>\n",
       "      <th>B</th>\n",
       "    </tr>\n",
       "  </thead>\n",
       "  <tbody>\n",
       "    <tr>\n",
       "      <th>count</th>\n",
       "      <td>3.000000</td>\n",
       "    </tr>\n",
       "    <tr>\n",
       "      <th>mean</th>\n",
       "      <td>46.666667</td>\n",
       "    </tr>\n",
       "    <tr>\n",
       "      <th>std</th>\n",
       "      <td>22.188586</td>\n",
       "    </tr>\n",
       "    <tr>\n",
       "      <th>min</th>\n",
       "      <td>23.000000</td>\n",
       "    </tr>\n",
       "    <tr>\n",
       "      <th>25%</th>\n",
       "      <td>36.500000</td>\n",
       "    </tr>\n",
       "    <tr>\n",
       "      <th>50%</th>\n",
       "      <td>50.000000</td>\n",
       "    </tr>\n",
       "    <tr>\n",
       "      <th>75%</th>\n",
       "      <td>58.500000</td>\n",
       "    </tr>\n",
       "    <tr>\n",
       "      <th>max</th>\n",
       "      <td>67.000000</td>\n",
       "    </tr>\n",
       "  </tbody>\n",
       "</table>\n",
       "</div>"
      ],
      "text/plain": [
       "               B\n",
       "count   3.000000\n",
       "mean   46.666667\n",
       "std    22.188586\n",
       "min    23.000000\n",
       "25%    36.500000\n",
       "50%    50.000000\n",
       "75%    58.500000\n",
       "max    67.000000"
      ]
     },
     "execution_count": 18,
     "metadata": {},
     "output_type": "execute_result"
    }
   ],
   "source": [
    "d1.describe()"
   ]
  },
  {
   "cell_type": "markdown",
   "id": "dc0f93f4-32e4-44ae-9385-0f5fa4937255",
   "metadata": {},
   "source": [
    "***advanced way of initializing dataframe***"
   ]
  },
  {
   "cell_type": "code",
   "execution_count": 19,
   "id": "b34d5a6e-e9eb-46f9-a6f0-628d1e3e1402",
   "metadata": {},
   "outputs": [],
   "source": [
    "d2 = pd.DataFrame( np.random.rand(10,5), index = np.arange(10) )"
   ]
  },
  {
   "cell_type": "code",
   "execution_count": 20,
   "id": "4e5a8cda-2e07-40c6-8885-48a1917998b2",
   "metadata": {},
   "outputs": [
    {
     "data": {
      "text/html": [
       "<div>\n",
       "<style scoped>\n",
       "    .dataframe tbody tr th:only-of-type {\n",
       "        vertical-align: middle;\n",
       "    }\n",
       "\n",
       "    .dataframe tbody tr th {\n",
       "        vertical-align: top;\n",
       "    }\n",
       "\n",
       "    .dataframe thead th {\n",
       "        text-align: right;\n",
       "    }\n",
       "</style>\n",
       "<table border=\"1\" class=\"dataframe\">\n",
       "  <thead>\n",
       "    <tr style=\"text-align: right;\">\n",
       "      <th></th>\n",
       "      <th>0</th>\n",
       "      <th>1</th>\n",
       "      <th>2</th>\n",
       "      <th>3</th>\n",
       "      <th>4</th>\n",
       "    </tr>\n",
       "  </thead>\n",
       "  <tbody>\n",
       "    <tr>\n",
       "      <th>0</th>\n",
       "      <td>0.980676</td>\n",
       "      <td>0.932129</td>\n",
       "      <td>0.084025</td>\n",
       "      <td>0.369050</td>\n",
       "      <td>0.919292</td>\n",
       "    </tr>\n",
       "    <tr>\n",
       "      <th>1</th>\n",
       "      <td>0.147810</td>\n",
       "      <td>0.750657</td>\n",
       "      <td>0.062138</td>\n",
       "      <td>0.950975</td>\n",
       "      <td>0.546676</td>\n",
       "    </tr>\n",
       "    <tr>\n",
       "      <th>2</th>\n",
       "      <td>0.923535</td>\n",
       "      <td>0.406245</td>\n",
       "      <td>0.307917</td>\n",
       "      <td>0.042456</td>\n",
       "      <td>0.212776</td>\n",
       "    </tr>\n",
       "    <tr>\n",
       "      <th>3</th>\n",
       "      <td>0.232023</td>\n",
       "      <td>0.429345</td>\n",
       "      <td>0.058066</td>\n",
       "      <td>0.631897</td>\n",
       "      <td>0.470309</td>\n",
       "    </tr>\n",
       "    <tr>\n",
       "      <th>4</th>\n",
       "      <td>0.201096</td>\n",
       "      <td>0.649784</td>\n",
       "      <td>0.917233</td>\n",
       "      <td>0.147132</td>\n",
       "      <td>0.785791</td>\n",
       "    </tr>\n",
       "    <tr>\n",
       "      <th>5</th>\n",
       "      <td>0.069428</td>\n",
       "      <td>0.868917</td>\n",
       "      <td>0.822174</td>\n",
       "      <td>0.260637</td>\n",
       "      <td>0.775472</td>\n",
       "    </tr>\n",
       "    <tr>\n",
       "      <th>6</th>\n",
       "      <td>0.236384</td>\n",
       "      <td>0.558645</td>\n",
       "      <td>0.418246</td>\n",
       "      <td>0.115386</td>\n",
       "      <td>0.517622</td>\n",
       "    </tr>\n",
       "    <tr>\n",
       "      <th>7</th>\n",
       "      <td>0.314233</td>\n",
       "      <td>0.960805</td>\n",
       "      <td>0.352328</td>\n",
       "      <td>0.831473</td>\n",
       "      <td>0.162486</td>\n",
       "    </tr>\n",
       "    <tr>\n",
       "      <th>8</th>\n",
       "      <td>0.001884</td>\n",
       "      <td>0.389433</td>\n",
       "      <td>0.158457</td>\n",
       "      <td>0.200303</td>\n",
       "      <td>0.818983</td>\n",
       "    </tr>\n",
       "    <tr>\n",
       "      <th>9</th>\n",
       "      <td>0.207177</td>\n",
       "      <td>0.676745</td>\n",
       "      <td>0.715829</td>\n",
       "      <td>0.027915</td>\n",
       "      <td>0.490811</td>\n",
       "    </tr>\n",
       "  </tbody>\n",
       "</table>\n",
       "</div>"
      ],
      "text/plain": [
       "          0         1         2         3         4\n",
       "0  0.980676  0.932129  0.084025  0.369050  0.919292\n",
       "1  0.147810  0.750657  0.062138  0.950975  0.546676\n",
       "2  0.923535  0.406245  0.307917  0.042456  0.212776\n",
       "3  0.232023  0.429345  0.058066  0.631897  0.470309\n",
       "4  0.201096  0.649784  0.917233  0.147132  0.785791\n",
       "5  0.069428  0.868917  0.822174  0.260637  0.775472\n",
       "6  0.236384  0.558645  0.418246  0.115386  0.517622\n",
       "7  0.314233  0.960805  0.352328  0.831473  0.162486\n",
       "8  0.001884  0.389433  0.158457  0.200303  0.818983\n",
       "9  0.207177  0.676745  0.715829  0.027915  0.490811"
      ]
     },
     "execution_count": 20,
     "metadata": {},
     "output_type": "execute_result"
    }
   ],
   "source": [
    "d2"
   ]
  },
  {
   "cell_type": "code",
   "execution_count": 21,
   "id": "baf3dbff-6f6d-4ca8-8220-0d33eecb6682",
   "metadata": {},
   "outputs": [
    {
     "name": "stderr",
     "output_type": "stream",
     "text": [
      "C:\\Users\\mahee\\AppData\\Local\\Temp\\ipykernel_13824\\900172558.py:1: FutureWarning: Setting an item of incompatible dtype is deprecated and will raise in a future error of pandas. Value 'Hi' has dtype incompatible with float64, please explicitly cast to a compatible dtype first.\n",
      "  d2[0][0] = \"Hi\"\n"
     ]
    }
   ],
   "source": [
    "d2[0][0] = \"Hi\""
   ]
  },
  {
   "cell_type": "code",
   "execution_count": 22,
   "id": "f4feb8b5-3cbe-4104-b04d-1dd55d0ec0e2",
   "metadata": {},
   "outputs": [
    {
     "data": {
      "text/html": [
       "<div>\n",
       "<style scoped>\n",
       "    .dataframe tbody tr th:only-of-type {\n",
       "        vertical-align: middle;\n",
       "    }\n",
       "\n",
       "    .dataframe tbody tr th {\n",
       "        vertical-align: top;\n",
       "    }\n",
       "\n",
       "    .dataframe thead th {\n",
       "        text-align: right;\n",
       "    }\n",
       "</style>\n",
       "<table border=\"1\" class=\"dataframe\">\n",
       "  <thead>\n",
       "    <tr style=\"text-align: right;\">\n",
       "      <th></th>\n",
       "      <th>0</th>\n",
       "      <th>1</th>\n",
       "      <th>2</th>\n",
       "      <th>3</th>\n",
       "      <th>4</th>\n",
       "    </tr>\n",
       "  </thead>\n",
       "  <tbody>\n",
       "    <tr>\n",
       "      <th>0</th>\n",
       "      <td>Hi</td>\n",
       "      <td>0.932129</td>\n",
       "      <td>0.084025</td>\n",
       "      <td>0.369050</td>\n",
       "      <td>0.919292</td>\n",
       "    </tr>\n",
       "    <tr>\n",
       "      <th>1</th>\n",
       "      <td>0.14781</td>\n",
       "      <td>0.750657</td>\n",
       "      <td>0.062138</td>\n",
       "      <td>0.950975</td>\n",
       "      <td>0.546676</td>\n",
       "    </tr>\n",
       "    <tr>\n",
       "      <th>2</th>\n",
       "      <td>0.923535</td>\n",
       "      <td>0.406245</td>\n",
       "      <td>0.307917</td>\n",
       "      <td>0.042456</td>\n",
       "      <td>0.212776</td>\n",
       "    </tr>\n",
       "    <tr>\n",
       "      <th>3</th>\n",
       "      <td>0.232023</td>\n",
       "      <td>0.429345</td>\n",
       "      <td>0.058066</td>\n",
       "      <td>0.631897</td>\n",
       "      <td>0.470309</td>\n",
       "    </tr>\n",
       "    <tr>\n",
       "      <th>4</th>\n",
       "      <td>0.201096</td>\n",
       "      <td>0.649784</td>\n",
       "      <td>0.917233</td>\n",
       "      <td>0.147132</td>\n",
       "      <td>0.785791</td>\n",
       "    </tr>\n",
       "    <tr>\n",
       "      <th>5</th>\n",
       "      <td>0.069428</td>\n",
       "      <td>0.868917</td>\n",
       "      <td>0.822174</td>\n",
       "      <td>0.260637</td>\n",
       "      <td>0.775472</td>\n",
       "    </tr>\n",
       "    <tr>\n",
       "      <th>6</th>\n",
       "      <td>0.236384</td>\n",
       "      <td>0.558645</td>\n",
       "      <td>0.418246</td>\n",
       "      <td>0.115386</td>\n",
       "      <td>0.517622</td>\n",
       "    </tr>\n",
       "    <tr>\n",
       "      <th>7</th>\n",
       "      <td>0.314233</td>\n",
       "      <td>0.960805</td>\n",
       "      <td>0.352328</td>\n",
       "      <td>0.831473</td>\n",
       "      <td>0.162486</td>\n",
       "    </tr>\n",
       "    <tr>\n",
       "      <th>8</th>\n",
       "      <td>0.001884</td>\n",
       "      <td>0.389433</td>\n",
       "      <td>0.158457</td>\n",
       "      <td>0.200303</td>\n",
       "      <td>0.818983</td>\n",
       "    </tr>\n",
       "    <tr>\n",
       "      <th>9</th>\n",
       "      <td>0.207177</td>\n",
       "      <td>0.676745</td>\n",
       "      <td>0.715829</td>\n",
       "      <td>0.027915</td>\n",
       "      <td>0.490811</td>\n",
       "    </tr>\n",
       "  </tbody>\n",
       "</table>\n",
       "</div>"
      ],
      "text/plain": [
       "          0         1         2         3         4\n",
       "0        Hi  0.932129  0.084025  0.369050  0.919292\n",
       "1   0.14781  0.750657  0.062138  0.950975  0.546676\n",
       "2  0.923535  0.406245  0.307917  0.042456  0.212776\n",
       "3  0.232023  0.429345  0.058066  0.631897  0.470309\n",
       "4  0.201096  0.649784  0.917233  0.147132  0.785791\n",
       "5  0.069428  0.868917  0.822174  0.260637  0.775472\n",
       "6  0.236384  0.558645  0.418246  0.115386  0.517622\n",
       "7  0.314233  0.960805  0.352328  0.831473  0.162486\n",
       "8  0.001884  0.389433  0.158457  0.200303  0.818983\n",
       "9  0.207177  0.676745  0.715829  0.027915  0.490811"
      ]
     },
     "execution_count": 22,
     "metadata": {},
     "output_type": "execute_result"
    }
   ],
   "source": [
    "d2"
   ]
  },
  {
   "cell_type": "markdown",
   "id": "1421da36-c53f-455d-8951-467e5bd31fc4",
   "metadata": {},
   "source": [
    "***converting into excel***"
   ]
  },
  {
   "cell_type": "code",
   "execution_count": 23,
   "id": "7f4315d5-9a5b-4db8-8480-47ee33a74850",
   "metadata": {},
   "outputs": [],
   "source": [
    "d1.to_csv(\"first_excel.csv\", index = False)"
   ]
  },
  {
   "cell_type": "code",
   "execution_count": 24,
   "id": "14d7b0e0-0131-4649-a7ee-d5851c91deee",
   "metadata": {},
   "outputs": [
    {
     "data": {
      "text/html": [
       "<div>\n",
       "<style scoped>\n",
       "    .dataframe tbody tr th:only-of-type {\n",
       "        vertical-align: middle;\n",
       "    }\n",
       "\n",
       "    .dataframe tbody tr th {\n",
       "        vertical-align: top;\n",
       "    }\n",
       "\n",
       "    .dataframe thead th {\n",
       "        text-align: right;\n",
       "    }\n",
       "</style>\n",
       "<table border=\"1\" class=\"dataframe\">\n",
       "  <thead>\n",
       "    <tr style=\"text-align: right;\">\n",
       "      <th></th>\n",
       "      <th>A</th>\n",
       "      <th>B</th>\n",
       "      <th>C</th>\n",
       "    </tr>\n",
       "  </thead>\n",
       "  <tbody>\n",
       "    <tr>\n",
       "      <th>first</th>\n",
       "      <td>ali</td>\n",
       "      <td>23</td>\n",
       "      <td>lahore</td>\n",
       "    </tr>\n",
       "    <tr>\n",
       "      <th>second</th>\n",
       "      <td>ayesha</td>\n",
       "      <td>50</td>\n",
       "      <td>karachi</td>\n",
       "    </tr>\n",
       "    <tr>\n",
       "      <th>third</th>\n",
       "      <td>amna</td>\n",
       "      <td>67</td>\n",
       "      <td>lah</td>\n",
       "    </tr>\n",
       "  </tbody>\n",
       "</table>\n",
       "</div>"
      ],
      "text/plain": [
       "             A   B        C\n",
       "first      ali  23   lahore\n",
       "second  ayesha  50  karachi\n",
       "third     amna  67      lah"
      ]
     },
     "execution_count": 24,
     "metadata": {},
     "output_type": "execute_result"
    }
   ],
   "source": [
    "d1"
   ]
  },
  {
   "cell_type": "markdown",
   "id": "fdbd5516-825c-48df-b0e2-ea92d5590a3f",
   "metadata": {},
   "source": [
    "***converting into numpy array (2d)***"
   ]
  },
  {
   "cell_type": "code",
   "execution_count": 25,
   "id": "87937481-946b-4d6a-9406-833c9a91c4d0",
   "metadata": {},
   "outputs": [
    {
     "data": {
      "text/plain": [
       "array([['ali', 23, 'lahore'],\n",
       "       ['ayesha', 50, 'karachi'],\n",
       "       ['amna', 67, 'lah']], dtype=object)"
      ]
     },
     "execution_count": 25,
     "metadata": {},
     "output_type": "execute_result"
    }
   ],
   "source": [
    "d1.to_numpy()"
   ]
  },
  {
   "cell_type": "markdown",
   "id": "59bf52ea-94e7-472e-874b-b19881cb80c0",
   "metadata": {},
   "source": [
    "***sorting rows and columns in descending order***"
   ]
  },
  {
   "cell_type": "code",
   "execution_count": 26,
   "id": "5d08fe70-5750-4eec-9655-71b9d073d220",
   "metadata": {},
   "outputs": [
    {
     "data": {
      "text/html": [
       "<div>\n",
       "<style scoped>\n",
       "    .dataframe tbody tr th:only-of-type {\n",
       "        vertical-align: middle;\n",
       "    }\n",
       "\n",
       "    .dataframe tbody tr th {\n",
       "        vertical-align: top;\n",
       "    }\n",
       "\n",
       "    .dataframe thead th {\n",
       "        text-align: right;\n",
       "    }\n",
       "</style>\n",
       "<table border=\"1\" class=\"dataframe\">\n",
       "  <thead>\n",
       "    <tr style=\"text-align: right;\">\n",
       "      <th></th>\n",
       "      <th>A</th>\n",
       "      <th>B</th>\n",
       "      <th>C</th>\n",
       "    </tr>\n",
       "  </thead>\n",
       "  <tbody>\n",
       "    <tr>\n",
       "      <th>third</th>\n",
       "      <td>amna</td>\n",
       "      <td>67</td>\n",
       "      <td>lah</td>\n",
       "    </tr>\n",
       "    <tr>\n",
       "      <th>second</th>\n",
       "      <td>ayesha</td>\n",
       "      <td>50</td>\n",
       "      <td>karachi</td>\n",
       "    </tr>\n",
       "    <tr>\n",
       "      <th>first</th>\n",
       "      <td>ali</td>\n",
       "      <td>23</td>\n",
       "      <td>lahore</td>\n",
       "    </tr>\n",
       "  </tbody>\n",
       "</table>\n",
       "</div>"
      ],
      "text/plain": [
       "             A   B        C\n",
       "third     amna  67      lah\n",
       "second  ayesha  50  karachi\n",
       "first      ali  23   lahore"
      ]
     },
     "execution_count": 26,
     "metadata": {},
     "output_type": "execute_result"
    }
   ],
   "source": [
    "d1.sort_index( axis = 0, ascending = False)"
   ]
  },
  {
   "cell_type": "markdown",
   "id": "23198e55-4ec1-45cf-84d4-3d8c424be0c3",
   "metadata": {},
   "source": [
    "***copying the dataframe into another***"
   ]
  },
  {
   "cell_type": "code",
   "execution_count": 27,
   "id": "90b3b7e7-59a4-4496-b1b1-ef75d5846e5e",
   "metadata": {},
   "outputs": [],
   "source": [
    "newdict = d1.copy()"
   ]
  },
  {
   "cell_type": "code",
   "execution_count": 28,
   "id": "10bc5552-95fa-45e2-be29-8ad91eeb8687",
   "metadata": {},
   "outputs": [
    {
     "data": {
      "text/html": [
       "<div>\n",
       "<style scoped>\n",
       "    .dataframe tbody tr th:only-of-type {\n",
       "        vertical-align: middle;\n",
       "    }\n",
       "\n",
       "    .dataframe tbody tr th {\n",
       "        vertical-align: top;\n",
       "    }\n",
       "\n",
       "    .dataframe thead th {\n",
       "        text-align: right;\n",
       "    }\n",
       "</style>\n",
       "<table border=\"1\" class=\"dataframe\">\n",
       "  <thead>\n",
       "    <tr style=\"text-align: right;\">\n",
       "      <th></th>\n",
       "      <th>A</th>\n",
       "      <th>B</th>\n",
       "      <th>C</th>\n",
       "    </tr>\n",
       "  </thead>\n",
       "  <tbody>\n",
       "    <tr>\n",
       "      <th>first</th>\n",
       "      <td>ali</td>\n",
       "      <td>23</td>\n",
       "      <td>lahore</td>\n",
       "    </tr>\n",
       "    <tr>\n",
       "      <th>second</th>\n",
       "      <td>ayesha</td>\n",
       "      <td>50</td>\n",
       "      <td>karachi</td>\n",
       "    </tr>\n",
       "    <tr>\n",
       "      <th>third</th>\n",
       "      <td>amna</td>\n",
       "      <td>67</td>\n",
       "      <td>lah</td>\n",
       "    </tr>\n",
       "  </tbody>\n",
       "</table>\n",
       "</div>"
      ],
      "text/plain": [
       "             A   B        C\n",
       "first      ali  23   lahore\n",
       "second  ayesha  50  karachi\n",
       "third     amna  67      lah"
      ]
     },
     "execution_count": 28,
     "metadata": {},
     "output_type": "execute_result"
    }
   ],
   "source": [
    "newdict"
   ]
  },
  {
   "cell_type": "markdown",
   "id": "0d64e198-a7a3-4e54-89d9-9dcf7156e2c7",
   "metadata": {},
   "source": [
    "***to delete a column or row***"
   ]
  },
  {
   "cell_type": "code",
   "execution_count": 29,
   "id": "77811a76-4da0-4d76-88fd-c6208cfb23c8",
   "metadata": {},
   "outputs": [
    {
     "data": {
      "text/html": [
       "<div>\n",
       "<style scoped>\n",
       "    .dataframe tbody tr th:only-of-type {\n",
       "        vertical-align: middle;\n",
       "    }\n",
       "\n",
       "    .dataframe tbody tr th {\n",
       "        vertical-align: top;\n",
       "    }\n",
       "\n",
       "    .dataframe thead th {\n",
       "        text-align: right;\n",
       "    }\n",
       "</style>\n",
       "<table border=\"1\" class=\"dataframe\">\n",
       "  <thead>\n",
       "    <tr style=\"text-align: right;\">\n",
       "      <th></th>\n",
       "      <th>A</th>\n",
       "      <th>B</th>\n",
       "    </tr>\n",
       "  </thead>\n",
       "  <tbody>\n",
       "    <tr>\n",
       "      <th>first</th>\n",
       "      <td>ali</td>\n",
       "      <td>23</td>\n",
       "    </tr>\n",
       "    <tr>\n",
       "      <th>second</th>\n",
       "      <td>ayesha</td>\n",
       "      <td>50</td>\n",
       "    </tr>\n",
       "    <tr>\n",
       "      <th>third</th>\n",
       "      <td>amna</td>\n",
       "      <td>67</td>\n",
       "    </tr>\n",
       "  </tbody>\n",
       "</table>\n",
       "</div>"
      ],
      "text/plain": [
       "             A   B\n",
       "first      ali  23\n",
       "second  ayesha  50\n",
       "third     amna  67"
      ]
     },
     "execution_count": 29,
     "metadata": {},
     "output_type": "execute_result"
    }
   ],
   "source": [
    "d1.drop( \"C\" , axis = 1 )"
   ]
  },
  {
   "cell_type": "code",
   "execution_count": 30,
   "id": "55ab4cc5-d0fe-449a-a4a2-42e0f93c5705",
   "metadata": {},
   "outputs": [
    {
     "data": {
      "text/html": [
       "<div>\n",
       "<style scoped>\n",
       "    .dataframe tbody tr th:only-of-type {\n",
       "        vertical-align: middle;\n",
       "    }\n",
       "\n",
       "    .dataframe tbody tr th {\n",
       "        vertical-align: top;\n",
       "    }\n",
       "\n",
       "    .dataframe thead th {\n",
       "        text-align: right;\n",
       "    }\n",
       "</style>\n",
       "<table border=\"1\" class=\"dataframe\">\n",
       "  <thead>\n",
       "    <tr style=\"text-align: right;\">\n",
       "      <th></th>\n",
       "      <th>A</th>\n",
       "      <th>B</th>\n",
       "      <th>C</th>\n",
       "    </tr>\n",
       "  </thead>\n",
       "  <tbody>\n",
       "    <tr>\n",
       "      <th>first</th>\n",
       "      <td>ali</td>\n",
       "      <td>23</td>\n",
       "      <td>lahore</td>\n",
       "    </tr>\n",
       "    <tr>\n",
       "      <th>second</th>\n",
       "      <td>ayesha</td>\n",
       "      <td>50</td>\n",
       "      <td>karachi</td>\n",
       "    </tr>\n",
       "  </tbody>\n",
       "</table>\n",
       "</div>"
      ],
      "text/plain": [
       "             A   B        C\n",
       "first      ali  23   lahore\n",
       "second  ayesha  50  karachi"
      ]
     },
     "execution_count": 30,
     "metadata": {},
     "output_type": "execute_result"
    }
   ],
   "source": [
    "d1.drop( \"third\", axis = 0)"
   ]
  }
 ],
 "metadata": {
  "kernelspec": {
   "display_name": "Python 3 (ipykernel)",
   "language": "python",
   "name": "python3"
  },
  "language_info": {
   "codemirror_mode": {
    "name": "ipython",
    "version": 3
   },
   "file_extension": ".py",
   "mimetype": "text/x-python",
   "name": "python",
   "nbconvert_exporter": "python",
   "pygments_lexer": "ipython3",
   "version": "3.11.5"
  }
 },
 "nbformat": 4,
 "nbformat_minor": 5
}
